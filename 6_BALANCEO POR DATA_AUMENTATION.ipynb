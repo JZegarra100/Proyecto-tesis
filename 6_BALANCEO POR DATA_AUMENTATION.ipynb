{
 "cells": [
  {
   "cell_type": "code",
   "execution_count": 7,
   "id": "3038edea-d57b-4090-840d-356bb6009b6a",
   "metadata": {},
   "outputs": [],
   "source": [
    "import os\n",
    "import numpy as np\n",
    "from skimage.io import imread, imsave\n",
    "from skimage.transform import rotate, resize\n",
    "from tqdm import tqdm\n",
    "import random"
   ]
  },
  {
   "cell_type": "code",
   "execution_count": 8,
   "id": "2e90b767-395e-4194-8d20-ec93698b45de",
   "metadata": {},
   "outputs": [
    {
     "name": "stderr",
     "output_type": "stream",
     "text": [
      "Procesando clase ARMONICO: 100%|██████████████████████████████████████████████████████| 42/42 [00:00<00:00, 141.06it/s]\n",
      "Procesando clase PIM: 100%|███████████████████████████████████████████████████████████| 42/42 [00:00<00:00, 159.62it/s]\n",
      "Procesando clase RADIOENLACE: 100%|█████████████████████████████████████████████████████| 7/7 [00:00<00:00, 174.05it/s]\n",
      "Balanceando clase RADIOENLACE: 100%|███████████████████████████████████████████████████| 35/35 [00:00<00:00, 84.37it/s]"
     ]
    },
    {
     "name": "stdout",
     "output_type": "stream",
     "text": [
      "Proceso de balanceo completado.\n"
     ]
    },
    {
     "name": "stderr",
     "output_type": "stream",
     "text": [
      "\n"
     ]
    }
   ],
   "source": [
    "# Definir rutas\n",
    "ruta_original = r'D:\\Python\\TESIS\\CLUSTERS_C1_CALC_K\\test0'\n",
    "ruta_balanceado = r'D:\\Python\\TESIS\\CLUSTERS_C1_CALC_K\\test'\n",
    "\n",
    "# Número máximo de imágenes en una de las clases\n",
    "num_max_muestras = 42\n",
    "\n",
    "# Crear carpeta de salida si no existe\n",
    "if not os.path.exists(ruta_balanceado):\n",
    "    os.makedirs(ruta_balanceado)\n",
    "\n",
    "# Función para centrar la imagen en un lienzo de 170x170 píxeles\n",
    "def centrar_imagen(imagen, tamano_lienzo=170):\n",
    "    alto, ancho = imagen.shape\n",
    "    # Si la imagen es más grande que el lienzo, la redimensionamos\n",
    "    if alto > tamano_lienzo or ancho > tamano_lienzo:\n",
    "        imagen = resize(imagen, (tamano_lienzo, tamano_lienzo), anti_aliasing=True)\n",
    "        alto, ancho = imagen.shape\n",
    "    \n",
    "    pad_alto = (tamano_lienzo - alto) // 2\n",
    "    pad_ancho = (tamano_lienzo - ancho) // 2\n",
    "    imagen_centrada = np.pad(imagen, ((pad_alto, tamano_lienzo - alto - pad_alto), (pad_ancho, tamano_lienzo - ancho - pad_ancho)), mode='constant', constant_values=0)\n",
    "    return imagen_centrada\n",
    "\n",
    "# Función para convertir a uint8\n",
    "def convertir_a_uint8(imagen):\n",
    "    imagen_escala = (imagen - np.min(imagen)) / (np.max(imagen) - np.min(imagen))  # Normalizar la imagen entre 0 y 1\n",
    "    imagen_uint8 = (imagen_escala * 255).astype(np.uint8)  # Convertir a valores entre 0 y 255 (uint8)\n",
    "    return imagen_uint8\n",
    "\n",
    "# Función para aplicar data augmentation\n",
    "def augmentar_imagen(imagen):\n",
    "    # Aplicar rotación aleatoria entre -15 y 15 grados\n",
    "    angulo = random.uniform(-15, 15)\n",
    "    imagen_rotada = rotate(imagen, angle=angulo, mode='edge')\n",
    "\n",
    "    # Aplicar desplazamiento aleatorio\n",
    "    desplazamiento_h = random.uniform(-10, 10)\n",
    "    desplazamiento_v = random.uniform(-10, 10)\n",
    "    imagen_desplazada = np.roll(imagen_rotada, int(desplazamiento_h), axis=1)\n",
    "    imagen_desplazada = np.roll(imagen_desplazada, int(desplazamiento_v), axis=0)\n",
    "\n",
    "    # Recortar el exceso generado por el desplazamiento\n",
    "    imagen_desplazada = imagen_desplazada[:170, :170]\n",
    "\n",
    "    # Aplicar zoom aleatorio\n",
    "    factor_zoom = random.uniform(0.9, 1.1)\n",
    "    imagen_zoom = resize(imagen_desplazada, (int(170 * factor_zoom), int(170 * factor_zoom)), anti_aliasing=True)\n",
    "    \n",
    "    # Centrar de nuevo en un lienzo 170x170 (en caso de que el zoom modifique el tamaño)\n",
    "    imagen_final = centrar_imagen(imagen_zoom)\n",
    "    \n",
    "    return imagen_final\n",
    "\n",
    "# Procesar cada clase\n",
    "for carpeta in os.listdir(ruta_original):\n",
    "    ruta_clase = os.path.join(ruta_original, carpeta)\n",
    "    ruta_salida_clase = os.path.join(ruta_balanceado, carpeta)\n",
    "    \n",
    "    # Crear carpeta de salida para la clase si no existe\n",
    "    if not os.path.exists(ruta_salida_clase):\n",
    "        os.makedirs(ruta_salida_clase)\n",
    "    \n",
    "    # Obtener la lista de imágenes en la carpeta de la clase\n",
    "    imagenes = os.listdir(ruta_clase)\n",
    "    num_imagenes_actual = len(imagenes)\n",
    "    \n",
    "    # Cargar y centrar las imágenes existentes\n",
    "    for imagen_nombre in tqdm(imagenes, desc=f'Procesando clase {carpeta}'):\n",
    "        ruta_imagen = os.path.join(ruta_clase, imagen_nombre)\n",
    "        imagen = imread(ruta_imagen, as_gray=True)\n",
    "        imagen_centrada = centrar_imagen(imagen)\n",
    "        \n",
    "        # Convertir la imagen centrada a uint8\n",
    "        imagen_centrada_uint8 = convertir_a_uint8(imagen_centrada)\n",
    "        \n",
    "        # Guardar la imagen centrada\n",
    "        imsave(os.path.join(ruta_salida_clase, imagen_nombre), imagen_centrada_uint8)\n",
    "    \n",
    "    # Generar imágenes adicionales para balancear la clase\n",
    "    if num_imagenes_actual < num_max_muestras:\n",
    "        deficit = num_max_muestras - num_imagenes_actual\n",
    "        for i in tqdm(range(deficit), desc=f'Balanceando clase {carpeta}'):\n",
    "            # Seleccionar una imagen aleatoria de la clase para aplicar augmentación\n",
    "            imagen_aleatoria = random.choice(imagenes)\n",
    "            ruta_imagen = os.path.join(ruta_clase, imagen_aleatoria)\n",
    "            imagen = imread(ruta_imagen, as_gray=True)\n",
    "            \n",
    "            # Aplicar augmentación y centrar en lienzo de 170x170\n",
    "            imagen_aumentada = augmentar_imagen(imagen)\n",
    "            \n",
    "            # Convertir la imagen aumentada a uint8\n",
    "            imagen_aumentada_uint8 = convertir_a_uint8(imagen_aumentada)\n",
    "            \n",
    "            # Guardar la imagen aumentada\n",
    "            nombre_imagen_aumentada = f'aug_{i}_{imagen_aleatoria}'\n",
    "            imsave(os.path.join(ruta_salida_clase, nombre_imagen_aumentada), imagen_aumentada_uint8)\n",
    "\n",
    "print(\"Proceso de balanceo completado.\")\n"
   ]
  },
  {
   "cell_type": "code",
   "execution_count": null,
   "id": "bad32f69-6233-483e-b35f-cb551ebfc453",
   "metadata": {},
   "outputs": [],
   "source": []
  }
 ],
 "metadata": {
  "kernelspec": {
   "display_name": "Python 3 (ipykernel)",
   "language": "python",
   "name": "python3"
  },
  "language_info": {
   "codemirror_mode": {
    "name": "ipython",
    "version": 3
   },
   "file_extension": ".py",
   "mimetype": "text/x-python",
   "name": "python",
   "nbconvert_exporter": "python",
   "pygments_lexer": "ipython3",
   "version": "3.8.10"
  }
 },
 "nbformat": 4,
 "nbformat_minor": 5
}
