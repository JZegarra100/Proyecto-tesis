{
 "cells": [
  {
   "cell_type": "code",
   "execution_count": 1,
   "id": "110726f8-777f-4e8d-b352-e1dd3e4c69d6",
   "metadata": {},
   "outputs": [],
   "source": [
    "import os\n",
    "import shutil\n",
    "import random"
   ]
  },
  {
   "cell_type": "code",
   "execution_count": 2,
   "id": "1c3e7ac2-f436-4002-a456-b26b082a68c8",
   "metadata": {},
   "outputs": [],
   "source": [
    "carrier = \"C1\""
   ]
  },
  {
   "cell_type": "code",
   "execution_count": 3,
   "id": "11de8daa-e1f7-4d47-89ee-983f23cd2906",
   "metadata": {},
   "outputs": [],
   "source": [
    "# Directorios de entrada y salida\n",
    "base_dir = f'D:/Python/TESIS/CLUSTERS_{carrier}_CALC_K'\n",
    "train_dir = f'D:/Python/TESIS/CLUSTERS_{carrier}_CALC_K/train'\n",
    "val_dir = f'D:/Python/TESIS/CLUSTERS_{carrier}_CALC_K/val'\n",
    "test_dir = f'D:/Python/TESIS/CLUSTERS_{carrier}_CALC_K/test'"
   ]
  },
  {
   "cell_type": "code",
   "execution_count": 4,
   "id": "2f0ff9b9-250d-40d0-9ef5-faba291c9050",
   "metadata": {},
   "outputs": [],
   "source": [
    "# Función para dividir las imágenes entre entrenamiento, validación y test (70/20/10)\n",
    "def dividir_train_val_test(base_dir, train_dir, val_dir, test_dir):\n",
    "    clases = os.listdir(base_dir)\n",
    "    \n",
    "    for clase in clases:\n",
    "        clase_dir = os.path.join(base_dir, clase)\n",
    "        \n",
    "        # Asegurarse de que es un directorio y no una de las carpetas \"train\", \"val\" o \"test\"\n",
    "        if os.path.isdir(clase_dir) and clase not in ['train', 'val', 'test']:\n",
    "            imagenes = [img for img in os.listdir(clase_dir) if img.endswith('.png')]  # Filtrar solo imágenes .png\n",
    "            \n",
    "            # Solo proceder si hay imágenes en la carpeta\n",
    "            if len(imagenes) == 0:\n",
    "                print(f\"Advertencia: La carpeta '{clase}' no contiene imágenes .png, se omitirá.\")\n",
    "                continue\n",
    "\n",
    "            random.shuffle(imagenes)  # Barajar aleatoriamente las imágenes\n",
    "\n",
    "            # Cálculo manual de las cantidades para cada conjunto\n",
    "            total_imagenes = len(imagenes)\n",
    "            num_train = int(total_imagenes * 0.7)\n",
    "            num_val = int(total_imagenes * 0.2)\n",
    "            num_test = total_imagenes - num_train - num_val  # El resto para test\n",
    "\n",
    "            # Crear carpetas para cada clase en train, validation y test\n",
    "            train_clase_dir = os.path.join(train_dir, clase)\n",
    "            val_clase_dir = os.path.join(val_dir, clase)\n",
    "            test_clase_dir = os.path.join(test_dir, clase)\n",
    "            \n",
    "            os.makedirs(train_clase_dir, exist_ok=True)\n",
    "            os.makedirs(val_clase_dir, exist_ok=True)\n",
    "            os.makedirs(test_clase_dir, exist_ok=True)\n",
    "            \n",
    "            # Mover imágenes de entrenamiento\n",
    "            for img in imagenes[:num_train]:\n",
    "                shutil.move(os.path.join(clase_dir, img), os.path.join(train_clase_dir, img))\n",
    "            \n",
    "            # Mover imágenes de validación\n",
    "            for img in imagenes[num_train:num_train + num_val]:\n",
    "                shutil.move(os.path.join(clase_dir, img), os.path.join(val_clase_dir, img))\n",
    "            \n",
    "            # Mover imágenes de test\n",
    "            for img in imagenes[num_train + num_val:]:\n",
    "                shutil.move(os.path.join(clase_dir, img), os.path.join(test_clase_dir, img))\n",
    "\n",
    "            # Eliminar la carpeta de la clase original si está vacía\n",
    "            if len(os.listdir(clase_dir)) == 0:\n",
    "                os.rmdir(clase_dir)\n",
    "                print(f\"Carpeta {clase_dir} eliminada porque está vacía.\")"
   ]
  },
  {
   "cell_type": "code",
   "execution_count": 5,
   "id": "c253815b-eb63-405d-b8a0-2977d53483ca",
   "metadata": {},
   "outputs": [
    {
     "name": "stdout",
     "output_type": "stream",
     "text": [
      "Advertencia: La carpeta 'test_bal' no contiene imágenes .png, se omitirá.\n",
      "Advertencia: La carpeta 'train0' no contiene imágenes .png, se omitirá.\n",
      "Advertencia: La carpeta 'val_bal' no contiene imágenes .png, se omitirá.\n",
      "Separación completada para C1.\n"
     ]
    }
   ],
   "source": [
    "# Verificar si la ruta base existe\n",
    "if not os.path.exists(base_dir):\n",
    "    print(f\"Error: La ruta {base_dir} no existe.\")\n",
    "else:\n",
    "    # Dividir las imágenes en entrenamiento, validación y test\n",
    "    dividir_train_val_test(base_dir, train_dir, val_dir, test_dir)\n",
    "    print(f\"Separación completada para {carrier}.\")"
   ]
  },
  {
   "cell_type": "code",
   "execution_count": null,
   "id": "b62bd471-2738-4b93-a71a-d7d2f34bb00c",
   "metadata": {},
   "outputs": [],
   "source": []
  }
 ],
 "metadata": {
  "kernelspec": {
   "display_name": "Python 3 (ipykernel)",
   "language": "python",
   "name": "python3"
  },
  "language_info": {
   "codemirror_mode": {
    "name": "ipython",
    "version": 3
   },
   "file_extension": ".py",
   "mimetype": "text/x-python",
   "name": "python",
   "nbconvert_exporter": "python",
   "pygments_lexer": "ipython3",
   "version": "3.8.10"
  }
 },
 "nbformat": 4,
 "nbformat_minor": 5
}
