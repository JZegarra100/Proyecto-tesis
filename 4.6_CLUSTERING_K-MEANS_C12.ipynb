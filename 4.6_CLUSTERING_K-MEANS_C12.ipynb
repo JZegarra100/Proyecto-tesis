{
 "cells": [
  {
   "cell_type": "code",
   "execution_count": 1,
   "id": "ad63bf81-0bb9-43ee-a47e-7dc1dd6e7622",
   "metadata": {},
   "outputs": [
    {
     "name": "stderr",
     "output_type": "stream",
     "text": [
      "Cargando imágenes: 100%|████████████████████████████████████████████████████████████| 827/827 [00:03<00:00, 221.78it/s]\n"
     ]
    },
    {
     "name": "stdout",
     "output_type": "stream",
     "text": [
      "Total de imágenes procesadas: 827\n",
      "Dimensiones reducidas: (827, 75)\n"
     ]
    },
    {
     "name": "stderr",
     "output_type": "stream",
     "text": [
      "C:\\ProgramData\\anaconda3\\envs\\tf-gpu\\lib\\site-packages\\sklearn\\cluster\\_kmeans.py:1416: FutureWarning: The default value of `n_init` will change from 10 to 'auto' in 1.4. Set the value of `n_init` explicitly to suppress the warning\n",
      "  super()._check_params_vs_input(X, default_n_init=10)\n"
     ]
    },
    {
     "name": "stdout",
     "output_type": "stream",
     "text": [
      "Clusterización completada y resultados guardados en las carpetas correspondientes.\n"
     ]
    }
   ],
   "source": [
    "import os\n",
    "import numpy as np\n",
    "from sklearn.decomposition import PCA\n",
    "from sklearn.cluster import KMeans\n",
    "from skimage.io import imread\n",
    "from skimage.transform import resize\n",
    "from tqdm import tqdm\n",
    "import shutil\n",
    "\n",
    "# Ruta de la carpeta de muestras\n",
    "ruta_muestras = r'D:\\Python\\TESIS\\MUESTRAS_CENTRADAS_V2\\MUESTRAS_C12_450MHZ'\n",
    "\n",
    "# Ruta de la carpeta de salida\n",
    "ruta_salida = r'D:\\Python\\TESIS\\CLUSTERS_C12_CALC_K'\n",
    "\n",
    "# Crear carpeta de salida si no existe\n",
    "if not os.path.exists(ruta_salida):\n",
    "    os.makedirs(ruta_salida)\n",
    "\n",
    "# Cargar y preprocesar las imágenes (sin redimensionar)\n",
    "imagenes = []\n",
    "nombres_imagenes = []\n",
    "\n",
    "# Obtener la lista de archivos en la carpeta de muestras\n",
    "archivos = os.listdir(ruta_muestras)\n",
    "\n",
    "# Leer y procesar cada imagen\n",
    "for archivo in tqdm(archivos, desc='Cargando imágenes'):\n",
    "    ruta_imagen = os.path.join(ruta_muestras, archivo)\n",
    "    try:\n",
    "        imagen = imread(ruta_imagen, as_gray=True)  # Leer en escala de grises\n",
    "        imagen = resize(imagen, (170, 170))  # Asegurar que todas las imágenes tengan el tamaño 170x170\n",
    "        imagen_vector = imagen.flatten()  # Convertir la imagen en un vector 1D\n",
    "        imagenes.append(imagen_vector)\n",
    "        nombres_imagenes.append(archivo)\n",
    "    except Exception as e:\n",
    "        print(f'Error al procesar {archivo}: {e}')\n",
    "\n",
    "X = np.array(imagenes)\n",
    "print(f'Total de imágenes procesadas: {X.shape[0]}')\n",
    "\n",
    "# Aplicar PCA para reducir la dimensionalidad a, por ejemplo, 50 componentes principales\n",
    "pca = PCA(n_components=75)\n",
    "X_pca = pca.fit_transform(X)\n",
    "\n",
    "print(f\"Dimensiones reducidas: {X_pca.shape}\")\n",
    "\n",
    "# Definir K-Means con K=9\n",
    "kmeans = KMeans(n_clusters=4, random_state=42)\n",
    "kmeans.fit(X_pca)\n",
    "\n",
    "# Obtener etiquetas de los clusters\n",
    "labels = kmeans.labels_\n",
    "\n",
    "# Crear subcarpetas para cada cluster dentro de la carpeta de salida\n",
    "for cluster in range(4):\n",
    "    cluster_path = os.path.join(ruta_salida, f'cluster_{cluster}')\n",
    "    if not os.path.exists(cluster_path):\n",
    "        os.makedirs(cluster_path)\n",
    "\n",
    "# Mover cada imagen a la carpeta de su cluster correspondiente\n",
    "for i, archivo in enumerate(nombres_imagenes):\n",
    "    cluster_label = labels[i]\n",
    "    cluster_path = os.path.join(ruta_salida, f'cluster_{cluster_label}')\n",
    "    ruta_origen = os.path.join(ruta_muestras, archivo)\n",
    "    ruta_destino = os.path.join(cluster_path, archivo)\n",
    "    shutil.copy(ruta_origen, ruta_destino)\n",
    "\n",
    "print(\"Clusterización completada y resultados guardados en las carpetas correspondientes.\")\n"
   ]
  },
  {
   "cell_type": "code",
   "execution_count": null,
   "id": "c78641ed-49b9-4a78-97d3-314faff8b896",
   "metadata": {},
   "outputs": [],
   "source": []
  },
  {
   "cell_type": "code",
   "execution_count": null,
   "id": "ff77aa4f-77cb-422c-8750-a6995cb9a409",
   "metadata": {},
   "outputs": [],
   "source": []
  }
 ],
 "metadata": {
  "kernelspec": {
   "display_name": "Python 3 (ipykernel)",
   "language": "python",
   "name": "python3"
  },
  "language_info": {
   "codemirror_mode": {
    "name": "ipython",
    "version": 3
   },
   "file_extension": ".py",
   "mimetype": "text/x-python",
   "name": "python",
   "nbconvert_exporter": "python",
   "pygments_lexer": "ipython3",
   "version": "3.8.10"
  }
 },
 "nbformat": 4,
 "nbformat_minor": 5
}
