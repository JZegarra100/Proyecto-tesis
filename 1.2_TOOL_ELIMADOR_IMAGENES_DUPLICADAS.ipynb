{
 "cells": [
  {
   "cell_type": "code",
   "execution_count": 4,
   "id": "d894cdf7-b123-4d7d-88b9-8cc2f69ecdf5",
   "metadata": {},
   "outputs": [],
   "source": [
    "import os\n",
    "from PIL import Image\n",
    "import hashlib\n"
   ]
  },
  {
   "cell_type": "code",
   "execution_count": 5,
   "id": "8af4d574-9381-4530-ae43-2d4eb0be9295",
   "metadata": {},
   "outputs": [],
   "source": [
    "def hash_image(image_path):\n",
    "    \"\"\"Genera el hash MD5 de la imagen para comparar duplicados.\"\"\"\n",
    "    with Image.open(image_path) as img:\n",
    "        return hashlib.md5(img.tobytes()).hexdigest()\n",
    "\n",
    "def eliminar_imagenes_identicas_en_subcarpetas(base_folder):\n",
    "    \"\"\"Elimina imágenes idénticas en todas las subcarpetas de un directorio.\"\"\"\n",
    "    for folder_name in os.listdir(base_folder):\n",
    "        folder_path = os.path.join(base_folder, folder_name)\n",
    "        \n",
    "        if os.path.isdir(folder_path):\n",
    "            images_hash = {}\n",
    "            removed_files = 0\n",
    "            \n",
    "            # Busca todas las imágenes dentro de la subcarpeta\n",
    "            for root, dirs, files in os.walk(folder_path):\n",
    "                for file in files:\n",
    "                    if file.endswith(('png', 'jpg', 'jpeg')):\n",
    "                        file_path = os.path.join(root, file)\n",
    "                        img_hash = hash_image(file_path)\n",
    "\n",
    "                        if img_hash in images_hash:\n",
    "                            # Imagen duplicada encontrada, se elimina\n",
    "                            os.remove(file_path)\n",
    "                            removed_files += 1\n",
    "                            print(f\"Eliminado duplicado: {file_path}\")\n",
    "                        else:\n",
    "                            # Almacena el hash de la imagen si no es duplicada\n",
    "                            images_hash[img_hash] = file_path\n",
    "\n",
    "            print(f\"Proceso completado en {folder_name}. Total de archivos eliminados: {removed_files}\")"
   ]
  },
  {
   "cell_type": "code",
   "execution_count": 6,
   "id": "b0e55b4c-d546-44fd-8ff3-4992f888b0e2",
   "metadata": {},
   "outputs": [
    {
     "name": "stdout",
     "output_type": "stream",
     "text": [
      "Proceso completado en ARMONICO. Total de archivos eliminados: 0\n",
      "Proceso completado en ARMONICOS. Total de archivos eliminados: 0\n",
      "Proceso completado en CADI_720-001. Total de archivos eliminados: 0\n",
      "Proceso completado en CADI_720-111. Total de archivos eliminados: 0\n",
      "Proceso completado en CADI_722-011. Total de archivos eliminados: 0\n",
      "Proceso completado en CADI_722-100. Total de archivos eliminados: 0\n",
      "Proceso completado en CADI_722-110. Total de archivos eliminados: 0\n",
      "Proceso completado en CADI_722-111. Total de archivos eliminados: 0\n",
      "Proceso completado en CADI_722-1U10. Total de archivos eliminados: 0\n",
      "Proceso completado en PROB_PIM. Total de archivos eliminados: 0\n"
     ]
    }
   ],
   "source": [
    "# Ejemplo de uso\n",
    "base_folder = r\"D:\\Python\\TESIS\\CLUSTERS_C4_CALC_K\"  # Directorio raíz donde están todas las carpetas\n",
    "eliminar_imagenes_identicas_en_subcarpetas(base_folder)\n"
   ]
  },
  {
   "cell_type": "code",
   "execution_count": null,
   "id": "010b8895-fc2d-437d-9035-8f8ddaaad896",
   "metadata": {},
   "outputs": [],
   "source": []
  }
 ],
 "metadata": {
  "kernelspec": {
   "display_name": "Python 3 (ipykernel)",
   "language": "python",
   "name": "python3"
  },
  "language_info": {
   "codemirror_mode": {
    "name": "ipython",
    "version": 3
   },
   "file_extension": ".py",
   "mimetype": "text/x-python",
   "name": "python",
   "nbconvert_exporter": "python",
   "pygments_lexer": "ipython3",
   "version": "3.8.10"
  }
 },
 "nbformat": 4,
 "nbformat_minor": 5
}
