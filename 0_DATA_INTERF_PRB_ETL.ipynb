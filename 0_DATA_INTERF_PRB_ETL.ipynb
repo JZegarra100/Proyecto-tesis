{
 "cells": [
  {
   "cell_type": "code",
   "execution_count": 1,
   "id": "bdd0b4ef",
   "metadata": {},
   "outputs": [],
   "source": [
    "#import cx_Oracle\n",
    "import pandas as pd\n",
    "import numpy as np\n",
    "import glob\n",
    "import time\n",
    "from datetime import datetime, timedelta\n",
    "import os\n",
    "import matplotlib.pyplot as plt\n",
    "from matplotlib.gridspec import GridSpec\n",
    "import seaborn as sns\n",
    "from matplotlib.colors import ListedColormap\n",
    "from datetime import datetime\n",
    "import mysql.connector\n",
    "from mysql.connector import Error\n",
    "from sqlalchemy import create_engine\n",
    "import mysql.connector as sql\n",
    "import mysql.connector as connection\n",
    "import warnings\n",
    "warnings.filterwarnings('ignore')  # Desactivar los warnings\n",
    "inicio = time.time()"
   ]
  },
  {
   "cell_type": "markdown",
   "id": "4c23c7e7",
   "metadata": {},
   "source": [
    "### CARGAMOS MUESTRAS PARA GENERAR LAS GRAFICAS DE ESPECTROGRAMA"
   ]
  },
  {
   "cell_type": "code",
   "execution_count": 2,
   "id": "af660d18-f1ba-49de-bf83-f6bac55ec9bc",
   "metadata": {},
   "outputs": [],
   "source": [
    "# Conectar a la base de datos MySQL\n",
    "connection = mysql.connector.connect(\n",
    "    host='localhost',   # Cambia si es necesario\n",
    "    user='root',  # Reemplaza con tu usuario de MySQL\n",
    "    password='AAAAAAAAA',  # Reemplaza con tu contraseña de MySQL\n",
    "    database='kpis_4g'  # Nombre de tu base de datos\n",
    ")\n",
    "\n",
    "# Consulta para obtener los datos de la tabla interf_lte_data\n",
    "query = \"SELECT * FROM interf_lte_data\"\n",
    "\n",
    "# Leer los datos en un DataFrame\n",
    "df_prb = pd.read_sql(query, connection)\n",
    "\n",
    "# Cerrar la conexión\n",
    "connection.close()"
   ]
  },
  {
   "cell_type": "code",
   "execution_count": 3,
   "id": "57c81e1c",
   "metadata": {},
   "outputs": [],
   "source": [
    "df_prb.drop_duplicates(inplace=True)"
   ]
  },
  {
   "cell_type": "code",
   "execution_count": 1,
   "id": "e1d83379-dd05-4f3a-9502-38c622ad60e2",
   "metadata": {},
   "outputs": [],
   "source": [
    "#df_prb"
   ]
  },
  {
   "cell_type": "code",
   "execution_count": 5,
   "id": "5549df38-f287-434c-8896-c0080fb6eae8",
   "metadata": {},
   "outputs": [],
   "source": [
    "# Crear una nueva columna concatenando DISTINTIVO, FECHA y HORA\n",
    "df_prb['DISTINTIVO_FECHA_HORA'] = df_prb['DISTINTIVO'].astype(str) + '_' + df_prb['FECHA'].astype(str) + '_' + df_prb['HORA'].astype(str)"
   ]
  },
  {
   "cell_type": "code",
   "execution_count": 2,
   "id": "28e346c7-784d-4f5b-b705-07f60409a407",
   "metadata": {},
   "outputs": [],
   "source": [
    "#df_prb"
   ]
  },
  {
   "cell_type": "code",
   "execution_count": null,
   "id": "5a42ec66-6a8f-4b85-ad8b-7885926ea56a",
   "metadata": {},
   "outputs": [],
   "source": [
    "import mysql.connector\n",
    "import pandas as pd\n",
    "\n",
    "try:\n",
    "    # Establecer conexión con la base de datos\n",
    "    mydb = mysql.connector.connect(\n",
    "        host=\"localhost\", \n",
    "        database='kpis_4g', \n",
    "        user=\"root\", \n",
    "        password=\"AAAAAAAA\"  # Cambié 'passwd' por 'password'\n",
    "    )\n",
    "\n",
    "    # Consulta SQL para seleccionar datos de la tabla freq_4g\n",
    "    query = \"SELECT * FROM freq_4g\"\n",
    "\n",
    "    # Leer los datos en un DataFrame\n",
    "    df_freq_4g = pd.read_sql(query, mydb)\n",
    "\n",
    "    # Cerrar la conexión después de cargar los datos\n",
    "    mydb.close()\n",
    "\n",
    "except Exception as e:\n",
    "    # Si ocurrió un error, cerrar la conexión solo si fue establecida\n",
    "    if mydb.is_connected():\n",
    "        mydb.close()\n",
    "    # Imprimir el error\n",
    "    print(str(e))"
   ]
  },
  {
   "cell_type": "code",
   "execution_count": null,
   "id": "9fef873a",
   "metadata": {},
   "outputs": [],
   "source": [
    "df_freq_4g['Earfcn_DL'] = df_freq_4g['Earfcn_DL'].astype(int)\n",
    "df_freq_4g['frec_ini_ul'] = df_freq_4g['frec_ini_ul'].astype(float)"
   ]
  },
  {
   "cell_type": "code",
   "execution_count": null,
   "id": "8d0ab4c6",
   "metadata": {},
   "outputs": [],
   "source": [
    "df_freq_4g = df_freq_4g.rename(columns={'Earfcn_DL': 'DLEARFCN'})\n",
    "df_freq_4g['ini_ul'] = df_freq_4g['frec_ini_ul'] + df_freq_4g['guarda_izq']"
   ]
  },
  {
   "cell_type": "code",
   "execution_count": null,
   "id": "0b7ffd48",
   "metadata": {},
   "outputs": [],
   "source": [
    "df_interf_prb = df_prb"
   ]
  },
  {
   "cell_type": "code",
   "execution_count": null,
   "id": "e9baa042-1470-45ff-9856-6963ee9fd8b7",
   "metadata": {},
   "outputs": [],
   "source": [
    "df_interf_prb.rename(columns={'CELLNAME': 'CELLNAME_X', 'DISTINTIVO_FECHA_HORA': 'CELLNAME'}, inplace=True)"
   ]
  },
  {
   "cell_type": "code",
   "execution_count": null,
   "id": "c6947d15-107b-4698-9cd1-3b82214a06b7",
   "metadata": {},
   "outputs": [],
   "source": [
    "df_interf_prb = df_interf_prb[['SITE_NAME', 'SITE_ADDRESS', 'CELLNAME', 'DISTINTIVO', 'CARRIER',\n",
    "       'RESULT_TIME', 'FECHA', 'HORA', 'NIVEL_PRB',\n",
    "       'L_UL_INTERFERENCE_AVG_PRB', 'DLEARFCN']]"
   ]
  },
  {
   "cell_type": "code",
   "execution_count": null,
   "id": "3bc867e6-4245-4ebc-b70e-e3b23b235820",
   "metadata": {},
   "outputs": [],
   "source": [
    "import pandas as pd\n",
    "from sqlalchemy import create_engine\n",
    "\n",
    "# Configurar la conexión a MySQL (reemplaza con tus credenciales)\n",
    "db_user = 'root'\n",
    "db_password = 'AAAAAAAAA'\n",
    "db_host = 'localhost'  # o la IP de tu servidor MySQL\n",
    "db_name = 'kpis_4g'\n",
    "table_name = 'interf_lte_etl'\n",
    "\n",
    "# Crear el motor de conexión usando SQLAlchemy\n",
    "engine = create_engine(f'mysql+pymysql://{db_user}:{db_password}@{db_host}/{db_name}')\n",
    "\n",
    "# Definir tamaño de trozo (cantidad de filas por inserción)\n",
    "chunk_size = 10000  # Ajusta según tu necesidad\n",
    "\n",
    "# Obtener la longitud del DataFrame\n",
    "n = len(df_interf_prb)\n",
    "\n",
    "# Iterar por bloques y subir cada bloque de datos\n",
    "for i in range(0, n, chunk_size):\n",
    "    # Obtener el DataFrame del trozo actual\n",
    "    df_chunk = df_interf_prb.iloc[i:i+chunk_size]\n",
    "    \n",
    "    try:\n",
    "        # Subir el bloque actual a la base de datos\n",
    "        df_chunk.to_sql(name=table_name, con=engine, if_exists='append', index=False)\n",
    "        #print(f\"Subido el bloque {i // chunk_size + 1} de {(n // chunk_size) + 1}\")\n",
    "    except Exception as e:\n",
    "        print(f\"Error al subir el bloque {i // chunk_size + 1}: {e}\")\n"
   ]
  },
  {
   "cell_type": "code",
   "execution_count": null,
   "id": "6c76a28d-588d-4dab-bb6f-44ebe847a668",
   "metadata": {},
   "outputs": [],
   "source": []
  }
 ],
 "metadata": {
  "kernelspec": {
   "display_name": "Python 3 (ipykernel)",
   "language": "python",
   "name": "python3"
  },
  "language_info": {
   "codemirror_mode": {
    "name": "ipython",
    "version": 3
   },
   "file_extension": ".py",
   "mimetype": "text/x-python",
   "name": "python",
   "nbconvert_exporter": "python",
   "pygments_lexer": "ipython3",
   "version": "3.11.7"
  }
 },
 "nbformat": 4,
 "nbformat_minor": 5
}
